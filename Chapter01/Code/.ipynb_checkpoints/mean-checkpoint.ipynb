{
 "cells": [
  {
   "cell_type": "code",
   "execution_count": 2,
   "metadata": {
    "collapsed": false
   },
   "outputs": [
    {
     "data": {
      "text/plain": [
       "[<matplotlib.lines.Line2D at 0x7f2c8d93bd90>]"
      ]
     },
     "execution_count": 2,
     "metadata": {},
     "output_type": "execute_result"
    },
    {
     "data": {
      "image/png": "[encoded data removed]",
      "text/plain": [
       "<matplotlib.figure.Figure at 0x7f2c8d93bd50>"
      ]
     },
     "metadata": {},
     "output_type": "display_data"
    }
   ],
   "source": [
    "import matplotlib.pyplot as plt #Import the plot library\n",
    "%matplotlib inline \n",
    "def mean(sampleset):  #Definition header for the mean function\n",
    "    total=0\n",
    "    for element in sampleset:\n",
    "        total=total+element\n",
    "    return total/len(sampleset)\n",
    "\n",
    "myset=[-2.,-10.,5.,10.,25.,6.,10.]  #We create the data set\n",
    "mymean=mean(myset) #Call the mean funcion\n",
    "plt.plot(myset)  #Plot the dataset\n",
    "plt.plot([mymean] * 7)  #Plot a line of 7 points located on the mean\n",
    "\n",
    "\n",
    "    "
   ]
  }
 ],
 "metadata": {
  "kernelspec": {
   "display_name": "Python 2",
   "language": "python",
   "name": "python2"
  },
  "language_info": {
   "codemirror_mode": {
    "name": "ipython",
    "version": 2
   },
   "file_extension": ".py",
   "mimetype": "text/x-python",
   "name": "python",
   "nbconvert_exporter": "python",
   "pygments_lexer": "ipython2",
   "version": "2.7.11+"
  }
 },
 "nbformat": 4,
 "nbformat_minor": 0
}
