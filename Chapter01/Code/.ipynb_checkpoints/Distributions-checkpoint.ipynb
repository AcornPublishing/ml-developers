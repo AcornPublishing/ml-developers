{
 "cells": [
  {
   "cell_type": "code",
   "execution_count": null,
   "metadata": {
    "collapsed": false,
    "scrolled": true
   },
   "outputs": [],
   "source": [
    "import matplotlib.pyplot as plt #Import the plot library\n",
    "import numpy as np\n",
    "%matplotlib inline \n",
    "%config InlineBackend.figure_format = 'svg'\n",
    "\n",
    "mu=0.5\n",
    "sigma=0.5\n",
    "\n",
    "uniform_low=0.25\n",
    "uniform_high=0.8\n",
    "\n",
    "\n",
    "uniform = np.random.uniform(uniform_low, uniform_high, 10000)\n",
    "plt.hist(uniform, 50, normed=1)\n",
    "\n",
    "plt.savefig(\"uniform.svg\")\n",
    "\n",
    "plt.figure()\n",
    "\n",
    "distro = np.random.normal(mu, sigma, 10000)/0.02\n",
    "plt.hist(distro, 50, normed=1)\n",
    "\n",
    "plt.figure()\n",
    "\n",
    "distro2 = np.random.logistic(mu, sigma, 10000)/0.02\n",
    "plt.hist(distro2, 50, normed=1)\n",
    "\n",
    "distro = np.random.normal(mu, sigma, 10000)/0.02\n",
    "plt.hist(distro, 50, normed=True)\n",
    "\n",
    "plt.figure()\n",
    "logistic_cumulative = np.random.logistic(mu, sigma, 10000)/0.02\n",
    "plt.hist(logistic_cumulative, 50, normed=1, cumulative=True)\n",
    "plt.savefig(\"logistic_cumulative.svg\")\n",
    "\n",
    "plt.figure()\n",
    "distro = np.random.binomial(1, .6, 10000)/0.5\n",
    "plt.hist(distro, 2 , normed=1)\n",
    "plt.savefig(\"bernoulli.svg\")\n",
    "\n",
    "plt.figure()\n",
    "distro = np.random.binomial(100, .6, 10000)/0.5\n",
    "plt.hist(distro, 100 , normed=1)\n",
    "plt.savefig(\"binomial.svg\")"
   ]
  }
 ],
 "metadata": {
  "kernelspec": {
   "display_name": "Python 2",
   "language": "python",
   "name": "python2"
  },
  "language_info": {
   "codemirror_mode": {
    "name": "ipython",
    "version": 2
   },
   "file_extension": ".py",
   "mimetype": "text/x-python",
   "name": "python",
   "nbconvert_exporter": "python",
   "pygments_lexer": "ipython2",
   "version": "2.7.11+"
  }
 },
 "nbformat": 4,
 "nbformat_minor": 0
}
